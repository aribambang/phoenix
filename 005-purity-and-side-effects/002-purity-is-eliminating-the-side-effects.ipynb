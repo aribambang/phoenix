{
 "cells": [
  {
   "cell_type": "markdown",
   "metadata": {},
   "source": [
    "#### 2. Purity Is Eliminating The Side Effects"
   ]
  },
  {
   "cell_type": "code",
   "execution_count": 1,
   "metadata": {},
   "outputs": [],
   "source": [
    "# Mock \"database\"\n",
    "user_database = {\n",
    "    \"Alice\": {\"age\": 28, \"city\": \"New York\"},\n",
    "    \"Bob\": {\"age\": 32, \"city\": \"Los Angeles\"}\n",
    "}\n",
    "\n",
    "def update_profile(name, new_data):\n",
    "    if name in user_database:\n",
    "        user_database[name].update(new_data)\n",
    "        return f\"{name}'s profile updated!\"\n",
    "    return f\"No profile found for {name}.\""
   ]
  },
  {
   "cell_type": "code",
   "execution_count": 2,
   "metadata": {},
   "outputs": [],
   "source": [
    "def pure_update_profile(database, name, new_data):\n",
    "\tif name in database:\n",
    "\t\tnew_database = database.copy()\n",
    "\t\tnew_database[name] = new_database[name].copy()\n",
    "\t\tnew_database[name].update(new_data)\n",
    "\t\treturn new_database\n",
    "\treturn database"
   ]
  },
  {
   "cell_type": "code",
   "execution_count": 3,
   "metadata": {},
   "outputs": [],
   "source": [
    "new_db = pure_update_profile(user_database, \"Alice\", {\"city\": \"Jakarta\"})"
   ]
  },
  {
   "cell_type": "code",
   "execution_count": 4,
   "metadata": {},
   "outputs": [
    {
     "data": {
      "text/plain": [
       "{'Alice': {'age': 28, 'city': 'Jakarta'},\n",
       " 'Bob': {'age': 32, 'city': 'Los Angeles'}}"
      ]
     },
     "execution_count": 4,
     "metadata": {},
     "output_type": "execute_result"
    }
   ],
   "source": [
    "new_db"
   ]
  },
  {
   "cell_type": "code",
   "execution_count": 5,
   "metadata": {},
   "outputs": [
    {
     "data": {
      "text/plain": [
       "{'Alice': {'age': 28, 'city': 'New York'},\n",
       " 'Bob': {'age': 32, 'city': 'Los Angeles'}}"
      ]
     },
     "execution_count": 5,
     "metadata": {},
     "output_type": "execute_result"
    }
   ],
   "source": [
    "user_database"
   ]
  },
  {
   "cell_type": "code",
   "execution_count": 6,
   "metadata": {},
   "outputs": [],
   "source": [
    "# separate/isolate side effects from the rest of the pure ops"
   ]
  }
 ],
 "metadata": {
  "kernelspec": {
   "display_name": "Python 3",
   "language": "python",
   "name": "python3"
  },
  "language_info": {
   "codemirror_mode": {
    "name": "ipython",
    "version": 3
   },
   "file_extension": ".py",
   "mimetype": "text/x-python",
   "name": "python",
   "nbconvert_exporter": "python",
   "pygments_lexer": "ipython3",
   "version": "3.11.9"
  }
 },
 "nbformat": 4,
 "nbformat_minor": 2
}
