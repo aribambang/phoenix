{
 "cells": [
  {
   "cell_type": "markdown",
   "metadata": {},
   "source": [
    "##### Implement A Simple Calculator\n",
    "\n",
    "Requirements:\n",
    "- create a Python script that acts as a simple calculator. The calculator should be able to perform basic arithmetic operations like addition, subtraction, multiplication, and division based on user input\n",
    "\n",
    "- implement four separate functions for each operation: add, subtract, multiply, and divide. Note: division by 0 needs some careful handling\n",
    "\n",
    "- prompt the user to choose an operation from the ones available\n",
    "\n",
    "- then, ask the user to input two numbers for the calculation\n",
    "\n",
    "- execute the function with the user-provided numbers and display the result"
   ]
  },
  {
   "cell_type": "code",
   "execution_count": 1,
   "metadata": {},
   "outputs": [],
   "source": [
    "# Example Usage:\n",
    "# Choose an operation (add, subtract, multiply, divide): multiply\n",
    "# Enter first number: 5\n",
    "# Enter second number: 3\n",
    "# Result: 15.0"
   ]
  },
  {
   "cell_type": "markdown",
   "metadata": {},
   "source": [
    "# Solution"
   ]
  },
  {
   "cell_type": "code",
   "execution_count": 2,
   "metadata": {},
   "outputs": [],
   "source": [
    "def add(x, y):\n",
    "\treturn x + y\n",
    "\n",
    "def subtract(x, y):\n",
    "\treturn x - y\n",
    "\n",
    "def multiply(x, y):\n",
    "\treturn x * y\n",
    "\n",
    "def divide(x, y):\n",
    "\treturn x / y if y != 0 else \"Undefined\""
   ]
  },
  {
   "cell_type": "code",
   "execution_count": 3,
   "metadata": {},
   "outputs": [],
   "source": [
    "# from operator import add, sub, mul, truediv"
   ]
  },
  {
   "cell_type": "code",
   "execution_count": 4,
   "metadata": {},
   "outputs": [],
   "source": [
    "operations = {\n",
    "\t\"add\": add,\n",
    "  \t\"subtract\": subtract,\n",
    "  \t\"multiply\": multiply,\n",
    "  \t\"divide\": divide\n",
    "}"
   ]
  },
  {
   "cell_type": "code",
   "execution_count": 5,
   "metadata": {},
   "outputs": [],
   "source": [
    "operation_name = input(\"Choose an operator (add, subtract, multiply, divide): \")\n",
    "x = float(input(\"Enter first number: \"))\n",
    "y = float(input(\"Enter second number: \"))"
   ]
  },
  {
   "cell_type": "code",
   "execution_count": 6,
   "metadata": {},
   "outputs": [
    {
     "name": "stdout",
     "output_type": "stream",
     "text": [
      "Result: 500.0\n"
     ]
    }
   ],
   "source": [
    "if operation_name in operations:\n",
    "\tfunc = operations[operation_name]\n",
    "\tresult = func(x, y)\n",
    "\tprint(f\"Result: {result}\")\n",
    "else:\n",
    "\tprint(\"Invalid operation selected\")"
   ]
  }
 ],
 "metadata": {
  "kernelspec": {
   "display_name": "Python 3",
   "language": "python",
   "name": "python3"
  },
  "language_info": {
   "codemirror_mode": {
    "name": "ipython",
    "version": 3
   },
   "file_extension": ".py",
   "mimetype": "text/x-python",
   "name": "python",
   "nbconvert_exporter": "python",
   "pygments_lexer": "ipython3",
   "version": "3.11.9"
  }
 },
 "nbformat": 4,
 "nbformat_minor": 2
}
