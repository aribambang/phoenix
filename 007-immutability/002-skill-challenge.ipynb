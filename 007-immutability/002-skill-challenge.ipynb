{
 "cells": [
  {
   "cell_type": "markdown",
   "metadata": {},
   "source": [
    "#### Skill Challenge"
   ]
  },
  {
   "cell_type": "code",
   "execution_count": 1,
   "metadata": {},
   "outputs": [
    {
     "name": "stdout",
     "output_type": "stream",
     "text": [
      "[4, 5, 6]\n",
      "[4, 5, 6]\n"
     ]
    }
   ],
   "source": [
    "# convert the following to a pure function that deals with immutable data.\n",
    "\n",
    "from typing import List\n",
    "\n",
    "def increment_elements(data: List[int], value: int):\n",
    "\tfor i in range(len(data)):\n",
    "\t\tdata[i] += value\n",
    "\treturn data\n",
    "\n",
    "numbers = [1, 2, 3]\n",
    "incremented_numbers = increment_elements(numbers, 3)\n",
    "print(incremented_numbers)\n",
    "print(numbers)"
   ]
  },
  {
   "cell_type": "markdown",
   "metadata": {},
   "source": [
    "#### Solution"
   ]
  },
  {
   "cell_type": "code",
   "execution_count": 2,
   "metadata": {},
   "outputs": [
    {
     "name": "stdout",
     "output_type": "stream",
     "text": [
      "[4, 5, 6]\n",
      "[1, 2, 3]\n"
     ]
    }
   ],
   "source": [
    "from typing import List\n",
    "\n",
    "def increment_elements(data: List[int], value: int):\n",
    "\t# for i in range(len(data)):\n",
    "\t# \tdata[i] += value\n",
    "\t# return data\n",
    "\treturn [item + value for item in data]\n",
    "\n",
    "numbers = [1, 2, 3]\n",
    "incremented_numbers = increment_elements(numbers, 3)\n",
    "print(incremented_numbers)\n",
    "print(numbers)"
   ]
  }
 ],
 "metadata": {
  "kernelspec": {
   "display_name": "Python 3",
   "language": "python",
   "name": "python3"
  },
  "language_info": {
   "codemirror_mode": {
    "name": "ipython",
    "version": 3
   },
   "file_extension": ".py",
   "mimetype": "text/x-python",
   "name": "python",
   "nbconvert_exporter": "python",
   "pygments_lexer": "ipython3",
   "version": "3.11.9"
  }
 },
 "nbformat": 4,
 "nbformat_minor": 2
}
