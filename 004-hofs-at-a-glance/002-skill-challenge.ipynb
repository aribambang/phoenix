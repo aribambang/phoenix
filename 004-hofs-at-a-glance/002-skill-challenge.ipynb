{
 "cells": [
  {
   "cell_type": "markdown",
   "metadata": {},
   "source": [
    "#### Skill Challenge\n",
    "\n",
    "* write a retry HOF that tries to execute another function a specified number of times\n",
    "* e.g. signature: retry(func, max_tries=3)\n",
    "* sample unstable function to test this on:"
   ]
  },
  {
   "cell_type": "markdown",
   "metadata": {
    "vscode": {
     "languageId": "plaintext"
    }
   },
   "source": [
    "# Solution"
   ]
  },
  {
   "cell_type": "code",
   "execution_count": 1,
   "metadata": {},
   "outputs": [],
   "source": [
    "import random\n",
    "\n",
    "def unstable_function():\n",
    "    \"\"\"Simulates an unstable function that fails 50% of the time.\"\"\"\n",
    "    if random.randint(0, 1) == 0:\n",
    "        print(\"Function failed!\")\n",
    "        raise ValueError(\"Transient error!\")\n",
    "    else:\n",
    "        print(\"Function succeeded!\")\n",
    "        return \"Success!\""
   ]
  },
  {
   "cell_type": "code",
   "execution_count": 2,
   "metadata": {},
   "outputs": [],
   "source": [
    "def retry(func, max_retries=3):\n",
    "\tfor _ in range(max_retries):\n",
    "\t\ttry:\n",
    "\t\t\treturn func()\n",
    "\t\texcept ValueError:\n",
    "\t\t\tcontinue\n",
    "\t\n",
    "\treturn \"Failed after max retries\""
   ]
  },
  {
   "cell_type": "code",
   "execution_count": 3,
   "metadata": {},
   "outputs": [
    {
     "name": "stdout",
     "output_type": "stream",
     "text": [
      "Function failed!\n",
      "Function succeeded!\n"
     ]
    }
   ],
   "source": [
    "result = retry(unstable_function, 10)"
   ]
  }
 ],
 "metadata": {
  "kernelspec": {
   "display_name": "Python 3",
   "language": "python",
   "name": "python3"
  },
  "language_info": {
   "codemirror_mode": {
    "name": "ipython",
    "version": 3
   },
   "file_extension": ".py",
   "mimetype": "text/x-python",
   "name": "python",
   "nbconvert_exporter": "python",
   "pygments_lexer": "ipython3",
   "version": "3.11.9"
  }
 },
 "nbformat": 4,
 "nbformat_minor": 2
}
