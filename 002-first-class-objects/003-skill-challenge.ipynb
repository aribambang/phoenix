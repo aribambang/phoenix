{
 "cells": [
  {
   "cell_type": "markdown",
   "metadata": {},
   "source": [
    "# Skill Challenge\n",
    "\n",
    "- implement a function called `reverse_args` that takes a function `func` and returns a new function.\n",
    "- The returned function should take two arguments and invoke `func` with arguments reversed.\n",
    "\n",
    "```\n",
    "def subtract(x, y):\n",
    "  return x - y\n",
    "\n",
    "reverse_subtract = reverse_args(subtract)\n",
    "print(reverse_subtract(10, 5)) # Outputs -5 (because it computes 5-10)\n",
    "```"
   ]
  },
  {
   "cell_type": "code",
   "execution_count": 4,
   "metadata": {},
   "outputs": [],
   "source": [
    "# Solution\n",
    "\n",
    "def reverse_args(func):\n",
    "\tdef wrapper(x, y):\n",
    "\t\treturn func(y, x)\n",
    "\treturn wrapper"
   ]
  },
  {
   "cell_type": "code",
   "execution_count": 5,
   "metadata": {},
   "outputs": [
    {
     "name": "stdout",
     "output_type": "stream",
     "text": [
      "-5\n"
     ]
    }
   ],
   "source": [
    "def subtract(x, y):\n",
    "  return x - y\n",
    "\n",
    "reverse_subtract = reverse_args(subtract)\n",
    "print(reverse_subtract(10, 5)) # Outputs -5 (because it computes 5-10)"
   ]
  }
 ],
 "metadata": {
  "kernelspec": {
   "display_name": "Python 3",
   "language": "python",
   "name": "python3"
  },
  "language_info": {
   "codemirror_mode": {
    "name": "ipython",
    "version": 3
   },
   "file_extension": ".py",
   "mimetype": "text/x-python",
   "name": "python",
   "nbconvert_exporter": "python",
   "pygments_lexer": "ipython3",
   "version": "3.11.9"
  }
 },
 "nbformat": 4,
 "nbformat_minor": 2
}
